{
 "cells": [
  {
   "cell_type": "code",
   "execution_count": 6,
   "id": "0fc97ca5",
   "metadata": {},
   "outputs": [],
   "source": [
    "import pandas as pd"
   ]
  },
  {
   "cell_type": "code",
   "execution_count": 7,
   "id": "6db12171",
   "metadata": {},
   "outputs": [
    {
     "name": "stdout",
     "output_type": "stream",
     "text": [
      "38\n"
     ]
    },
    {
     "data": {
      "text/html": [
       "<div>\n",
       "<style scoped>\n",
       "    .dataframe tbody tr th:only-of-type {\n",
       "        vertical-align: middle;\n",
       "    }\n",
       "\n",
       "    .dataframe tbody tr th {\n",
       "        vertical-align: top;\n",
       "    }\n",
       "\n",
       "    .dataframe thead th {\n",
       "        text-align: right;\n",
       "    }\n",
       "</style>\n",
       "<table border=\"1\" class=\"dataframe\">\n",
       "  <thead>\n",
       "    <tr style=\"text-align: right;\">\n",
       "      <th></th>\n",
       "      <th>chinese</th>\n",
       "      <th>pinyin</th>\n",
       "      <th>english</th>\n",
       "      <th>priority</th>\n",
       "      <th>word1</th>\n",
       "      <th>word1_english</th>\n",
       "      <th>word2</th>\n",
       "      <th>word2_english</th>\n",
       "      <th>word3</th>\n",
       "      <th>word3_english</th>\n",
       "      <th>word4_english</th>\n",
       "      <th>word4</th>\n",
       "    </tr>\n",
       "  </thead>\n",
       "  <tbody>\n",
       "    <tr>\n",
       "      <th>0</th>\n",
       "      <td>担心</td>\n",
       "      <td>dān​xīn</td>\n",
       "      <td>anxious;worried</td>\n",
       "      <td>3.0</td>\n",
       "      <td>负担</td>\n",
       "      <td>burden</td>\n",
       "      <td>心</td>\n",
       "      <td>heart</td>\n",
       "      <td>NaN</td>\n",
       "      <td>NaN</td>\n",
       "      <td>NaN</td>\n",
       "      <td>NaN</td>\n",
       "    </tr>\n",
       "    <tr>\n",
       "      <th>1</th>\n",
       "      <td>玩具</td>\n",
       "      <td>wánjù</td>\n",
       "      <td>toy</td>\n",
       "      <td>2.0</td>\n",
       "      <td>玩</td>\n",
       "      <td>play</td>\n",
       "      <td>具</td>\n",
       "      <td>tool</td>\n",
       "      <td>NaN</td>\n",
       "      <td>NaN</td>\n",
       "      <td>NaN</td>\n",
       "      <td>NaN</td>\n",
       "    </tr>\n",
       "    <tr>\n",
       "      <th>2</th>\n",
       "      <td>多少</td>\n",
       "      <td>duō shǎo</td>\n",
       "      <td>how many</td>\n",
       "      <td>4.0</td>\n",
       "      <td>多</td>\n",
       "      <td>many</td>\n",
       "      <td>少</td>\n",
       "      <td>few</td>\n",
       "      <td>NaN</td>\n",
       "      <td>NaN</td>\n",
       "      <td>NaN</td>\n",
       "      <td>NaN</td>\n",
       "    </tr>\n",
       "    <tr>\n",
       "      <th>3</th>\n",
       "      <td>开关</td>\n",
       "      <td>kāi guān</td>\n",
       "      <td>power switch;switch</td>\n",
       "      <td>1.0</td>\n",
       "      <td>开</td>\n",
       "      <td>open</td>\n",
       "      <td>关</td>\n",
       "      <td>close</td>\n",
       "      <td>NaN</td>\n",
       "      <td>NaN</td>\n",
       "      <td>NaN</td>\n",
       "      <td>NaN</td>\n",
       "    </tr>\n",
       "    <tr>\n",
       "      <th>4</th>\n",
       "      <td>创业</td>\n",
       "      <td>chuàng yè</td>\n",
       "      <td>entrepreneurship;initiate</td>\n",
       "      <td>1.0</td>\n",
       "      <td>创造</td>\n",
       "      <td>to create</td>\n",
       "      <td>企业</td>\n",
       "      <td>company</td>\n",
       "      <td>NaN</td>\n",
       "      <td>NaN</td>\n",
       "      <td>NaN</td>\n",
       "      <td>NaN</td>\n",
       "    </tr>\n",
       "  </tbody>\n",
       "</table>\n",
       "</div>"
      ],
      "text/plain": [
       "  chinese     pinyin                    english  priority word1 word1_english  \\\n",
       "0      担心    dān​xīn            anxious;worried       3.0    负担        burden   \n",
       "1      玩具      wánjù                        toy       2.0     玩          play   \n",
       "2      多少   duō shǎo                   how many       4.0     多          many   \n",
       "3      开关   kāi guān        power switch;switch       1.0     开          open   \n",
       "4      创业  chuàng yè  entrepreneurship;initiate       1.0    创造     to create   \n",
       "\n",
       "  word2 word2_english word3 word3_english word4_english  word4  \n",
       "0     心         heart   NaN           NaN           NaN    NaN  \n",
       "1     具          tool   NaN           NaN           NaN    NaN  \n",
       "2     少           few   NaN           NaN           NaN    NaN  \n",
       "3     关         close   NaN           NaN           NaN    NaN  \n",
       "4    企业       company   NaN           NaN           NaN    NaN  "
      ]
     },
     "execution_count": 7,
     "metadata": {},
     "output_type": "execute_result"
    }
   ],
   "source": [
    "def load_data(random_state=0):\n",
    "    sheet_url = 'https://docs.google.com/spreadsheets/d/1pw9EAIvtiWenPDBFBIf7pwTh0FvIbIR0c3mY5gJwlDk/edit#gid=0'\n",
    "    sheet_url = sheet_url.replace('/edit#gid=', '/export?format=csv&gid=')\n",
    "    df = pd.read_csv(sheet_url)\n",
    "    df = df.dropna(subset=['chinese', 'pinyin', 'english', 'word1', 'word2'])\n",
    "    df = df.sample(frac=1.0, random_state=random_state).reset_index(drop=True)\n",
    "    return df\n",
    "\n",
    "df = load_data()\n",
    "print(len(df))\n",
    "df.head()"
   ]
  },
  {
   "cell_type": "code",
   "execution_count": 8,
   "id": "50a301cc",
   "metadata": {},
   "outputs": [
    {
     "data": {
      "text/plain": [
       "chinese                           开关\n",
       "pinyin                      kāi guān\n",
       "english          power switch;switch\n",
       "priority                         1.0\n",
       "word1                              开\n",
       "word1_english                   open\n",
       "word2                              关\n",
       "word2_english                  close\n",
       "word3                            NaN\n",
       "word3_english                    NaN\n",
       "word4_english                    NaN\n",
       "word4                            NaN\n",
       "Name: 3, dtype: object"
      ]
     },
     "execution_count": 8,
     "metadata": {},
     "output_type": "execute_result"
    }
   ],
   "source": [
    "current_row = df.loc[3]\n",
    "current_row"
   ]
  }
 ],
 "metadata": {
  "kernelspec": {
   "display_name": "streamlit-mandarin-chinese-combo-word-game-LwRpc49n-py3.13",
   "language": "python",
   "name": "python3"
  },
  "language_info": {
   "codemirror_mode": {
    "name": "ipython",
    "version": 3
   },
   "file_extension": ".py",
   "mimetype": "text/x-python",
   "name": "python",
   "nbconvert_exporter": "python",
   "pygments_lexer": "ipython3",
   "version": "3.13.1"
  }
 },
 "nbformat": 4,
 "nbformat_minor": 5
}
